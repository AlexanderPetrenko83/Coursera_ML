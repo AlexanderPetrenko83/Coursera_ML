{
 "cells": [
  {
   "cell_type": "markdown",
   "metadata": {},
   "source": [
    "# Random Forest\n",
    "\n",
    "В этом эксперименте мы познакомимся с классификатором \"Случайный лес\". Будем измерять качество классификатора метрикой accuracy при проведении кросс-валидации на 10 фолдов."
   ]
  },
  {
   "cell_type": "code",
   "execution_count": 190,
   "metadata": {},
   "outputs": [],
   "source": [
    "from sklearn import datasets, tree, model_selection, ensemble\n",
    "from sklearn.model_selection import cross_val_score, train_test_split\n",
    "from sklearn.metrics import accuracy_score\n",
    "\n",
    "import numpy as np\n",
    "\n",
    "import matplotlib\n",
    "from matplotlib import pyplot as plt\n",
    "\n",
    "%matplotlib inline"
   ]
  },
  {
   "cell_type": "markdown",
   "metadata": {},
   "source": [
    "Загрузим датасет digits из sklearn"
   ]
  },
  {
   "cell_type": "code",
   "execution_count": 157,
   "metadata": {},
   "outputs": [],
   "source": [
    "digits = datasets.load_digits()"
   ]
  },
  {
   "cell_type": "code",
   "execution_count": 158,
   "metadata": {},
   "outputs": [
    {
     "data": {
      "text/plain": [
       "sklearn.utils.Bunch"
      ]
     },
     "execution_count": 158,
     "metadata": {},
     "output_type": "execute_result"
    }
   ],
   "source": [
    "type(digits)"
   ]
  },
  {
   "cell_type": "code",
   "execution_count": 159,
   "metadata": {},
   "outputs": [
    {
     "data": {
      "text/plain": [
       "\".. _digits_dataset:\\n\\nOptical recognition of handwritten digits dataset\\n--------------------------------------------------\\n\\n**Data Set Characteristics:**\\n\\n    :Number of Instances: 5620\\n    :Number of Attributes: 64\\n    :Attribute Information: 8x8 image of integer pixels in the range 0..16.\\n    :Missing Attribute Values: None\\n    :Creator: E. Alpaydin (alpaydin '@' boun.edu.tr)\\n    :Date: July; 1998\\n\\nThis is a copy of the test set of the UCI ML hand-written digits datasets\\nhttp://archive.ics.uci.edu/ml/datasets/Optical+Recognition+of+Handwritten+Digits\\n\\nThe data set contains images of hand-written digits: 10 classes where\\neach class refers to a digit.\\n\\nPreprocessing programs made available by NIST were used to extract\\nnormalized bitmaps of handwritten digits from a preprinted form. From a\\ntotal of 43 people, 30 contributed to the training set and different 13\\nto the test set. 32x32 bitmaps are divided into nonoverlapping blocks of\\n4x4 and the number of on pixels are counted in each block. This generates\\nan input matrix of 8x8 where each element is an integer in the range\\n0..16. This reduces dimensionality and gives invariance to small\\ndistortions.\\n\\nFor info on NIST preprocessing routines, see M. D. Garris, J. L. Blue, G.\\nT. Candela, D. L. Dimmick, J. Geist, P. J. Grother, S. A. Janet, and C.\\nL. Wilson, NIST Form-Based Handprint Recognition System, NISTIR 5469,\\n1994.\\n\\n.. topic:: References\\n\\n  - C. Kaynak (1995) Methods of Combining Multiple Classifiers and Their\\n    Applications to Handwritten Digit Recognition, MSc Thesis, Institute of\\n    Graduate Studies in Science and Engineering, Bogazici University.\\n  - E. Alpaydin, C. Kaynak (1998) Cascading Classifiers, Kybernetika.\\n  - Ken Tang and Ponnuthurai N. Suganthan and Xi Yao and A. Kai Qin.\\n    Linear dimensionalityreduction using relevance weighted LDA. School of\\n    Electrical and Electronic Engineering Nanyang Technological University.\\n    2005.\\n  - Claudio Gentile. A New Approximate Maximal Margin Classification\\n    Algorithm. NIPS. 2000.\""
      ]
     },
     "execution_count": 159,
     "metadata": {},
     "output_type": "execute_result"
    }
   ],
   "source": [
    "digits.DESCR"
   ]
  },
  {
   "cell_type": "markdown",
   "metadata": {},
   "source": [
    "## Оптическое распознавание рукописных цифр\n",
    "### Характеристики дата-сета:\n",
    "Количество экземпляров: 5620\n",
    "\n",
    "Количество атрибутов (признаков): 64\n",
    "\n",
    "Информация об атрибутах: Изображение 8x8 целых пикселей в диапазоне 0..16\n",
    "\n",
    "Пропущенные (недостающие) значения атрибута: None\n",
    "\n",
    "Автор: E. Alpaydin (alpaydin '@' boun.edu.tr)\n",
    "\n",
    "Дата: 1998.07\n",
    "\n",
    "Это копия тестового набора рукописных цифр UCI ML (http://archive.ics.uci.edu/ml/datasets/Optical+Recognition+of+Handwritten+Digits)\n",
    "\n",
    "Набор данных содержит изображения рукописных цифр: 10 классов, где каждый класс относится к цифре.\n",
    "\n",
    "Для извлечения нормализованных растровых изображений рукописных цифр из предварительно напечатанной формы, использовались программы предварительной предобработки предоставленные NIST.\n",
    "\n",
    "\n",
    "Из 43 человек 30 участвовали в тренировочном наборе, а 13 - в тестовом наборе.\n",
    "\n",
    "Битовые карты 32x32 делятся на неперекрывающиеся блоки 4x4, при этом количество пикселей учитывается в каждом блоке. Генерируется входная матрица 8x8, где каждый элемент является целым числом в диапазоне 0..16. Таким образом, уменьшается размерность и добавляется инвариантность к небольшим искажениям.\n",
    "\n",
    "Для получения информации о процедурах предварительной обработки NIST смотри: M.D. Garris, J.L. Blue, G.T. Candela, D.L. Dimmick, J.Geist, P.J. Grother, S.A. Janet, and C.L. Wilson\n",
    "\n",
    "Система распознавания отпечатков пальцев на основе форм NIST, NISTIR 5469, 1994\n",
    "\n",
    "### Ссылки:\n",
    "01 C. Kaynak (1995) Methods of Combining Multiple Classifiers and Their Applications to Handwritten Digit Recognition\n",
    "\n",
    "*Методы объединения нескольких классификаторов и их приложений для распознавания рукописных цифр*\n",
    "\n",
    "02 C. Kaynak (1998) Cascading Classifiers, Kybernetika\n",
    "\n",
    "*Каскадные классификаторы, Кибернетика*\n",
    "\n",
    "03 E.K. Tang, P.N. Suganthan, X. Yao, A.K. Qin. (2005) Linear dimensionalityreduction using relevance weighted LDA\n",
    "\n",
    "School of Electrical and Electronic Engineering Nanyang Technological University\n",
    "\n",
    "04 C. Gentile (2005) A New Approximate Maximal Margin Classification, Algorithm NIPS"
   ]
  },
  {
   "cell_type": "code",
   "execution_count": 160,
   "metadata": {},
   "outputs": [
    {
     "data": {
      "text/plain": [
       "['images', 'data', 'target_names', 'DESCR', 'target']"
      ]
     },
     "execution_count": 160,
     "metadata": {},
     "output_type": "execute_result"
    }
   ],
   "source": [
    "digits.keys()"
   ]
  },
  {
   "cell_type": "markdown",
   "metadata": {},
   "source": [
    "Выделим из датасета матрицу признаков и вектор ответов"
   ]
  },
  {
   "cell_type": "code",
   "execution_count": 161,
   "metadata": {},
   "outputs": [],
   "source": [
    "x_data = digits.data\n",
    "y = digits.target"
   ]
  },
  {
   "cell_type": "markdown",
   "metadata": {},
   "source": [
    "Установим размер матрицы признаков и вектора ответов"
   ]
  },
  {
   "cell_type": "code",
   "execution_count": 162,
   "metadata": {},
   "outputs": [
    {
     "name": "stdout",
     "output_type": "stream",
     "text": [
      "(1797L, 64L)\n",
      "(1797L,)\n"
     ]
    }
   ],
   "source": [
    "print x_data.shape\n",
    "print y.shape"
   ]
  },
  {
   "cell_type": "markdown",
   "metadata": {},
   "source": [
    "Выведем классы объектов"
   ]
  },
  {
   "cell_type": "code",
   "execution_count": 163,
   "metadata": {},
   "outputs": [
    {
     "data": {
      "text/plain": [
       "array([0, 1, 2, 3, 4, 5, 6, 7, 8, 9])"
      ]
     },
     "execution_count": 163,
     "metadata": {},
     "output_type": "execute_result"
    }
   ],
   "source": [
    "np.unique(y)"
   ]
  },
  {
   "cell_type": "markdown",
   "metadata": {},
   "source": [
    "У нас 10 классов объектов, столько же, сколько и цифр. Логично!\n",
    "\n",
    "Выведем список возможных значений признаков матрицы X"
   ]
  },
  {
   "cell_type": "code",
   "execution_count": 164,
   "metadata": {},
   "outputs": [
    {
     "data": {
      "text/plain": [
       "array([ 0.,  1.,  2.,  3.,  4.,  5.,  6.,  7.,  8.,  9., 10., 11., 12.,\n",
       "       13., 14., 15., 16.])"
      ]
     },
     "execution_count": 164,
     "metadata": {},
     "output_type": "execute_result"
    }
   ],
   "source": [
    "np.unique(x_data)"
   ]
  },
  {
   "cell_type": "markdown",
   "metadata": {},
   "source": [
    "Всего 16+1=17 значений\n",
    "\n",
    "При это нулевой признак имеет одно значение - ноль, первый признак представлен 8+1=9 значениями, каждый из остальных признаков обладает 16+1=17 значениями"
   ]
  },
  {
   "cell_type": "code",
   "execution_count": 165,
   "metadata": {},
   "outputs": [
    {
     "name": "stdout",
     "output_type": "stream",
     "text": [
      "[0.]\n",
      "[0. 1. 2. 3. 4. 5. 6. 7. 8.]\n",
      "[ 0.  1.  2.  3.  4.  5.  6.  7.  8.  9. 10. 11. 12. 13. 14. 15. 16.]\n"
     ]
    }
   ],
   "source": [
    "print np.unique(x_data[:,0])\n",
    "\n",
    "print np.unique(x_data[:,1])\n",
    "\n",
    "print np.unique(x_data[:,2])"
   ]
  },
  {
   "cell_type": "markdown",
   "metadata": {},
   "source": [
    "Проверим балансировку классов"
   ]
  },
  {
   "cell_type": "code",
   "execution_count": 166,
   "metadata": {},
   "outputs": [
    {
     "data": {
      "text/plain": [
       "[array([[  0., 178.]]),\n",
       " array([[  1., 182.]]),\n",
       " array([[  2., 177.]]),\n",
       " array([[  3., 183.]]),\n",
       " array([[  4., 181.]]),\n",
       " array([[  5., 182.]]),\n",
       " array([[  6., 181.]]),\n",
       " array([[  7., 179.]]),\n",
       " array([[  8., 174.]]),\n",
       " array([[  9., 180.]])]"
      ]
     },
     "execution_count": 166,
     "metadata": {},
     "output_type": "execute_result"
    }
   ],
   "source": [
    "balance = []\n",
    "for i in np.unique(y):\n",
    "    cell = np.array([])\n",
    "    cell.resize((1,2))\n",
    "    cell[0][0] = i\n",
    "    cell[0][1] = np.sum(y==i)\n",
    "    balance.append(cell)\n",
    "\n",
    "balance"
   ]
  },
  {
   "cell_type": "code",
   "execution_count": 167,
   "metadata": {},
   "outputs": [
    {
     "data": {
      "text/plain": [
       "[array([[0. , 9.9]]),\n",
       " array([[ 1. , 10.1]]),\n",
       " array([[2. , 9.8]]),\n",
       " array([[ 3. , 10.2]]),\n",
       " array([[ 4. , 10.1]]),\n",
       " array([[ 5. , 10.1]]),\n",
       " array([[ 6. , 10.1]]),\n",
       " array([[ 7., 10.]]),\n",
       " array([[8. , 9.7]]),\n",
       " array([[ 9., 10.]])]"
      ]
     },
     "execution_count": 167,
     "metadata": {},
     "output_type": "execute_result"
    }
   ],
   "source": [
    "balance = np.array(balance)\n",
    "\n",
    "np.sum(balance[:,0][:,1])\n",
    "\n",
    "balance_perc = []\n",
    "for i in balance:\n",
    "        cell = np.array([])\n",
    "        cell.resize((1,2))\n",
    "        cell[0][0] = i[0][0]\n",
    "        cell[0][1] = round(i[0][1]*100/np.sum(balance[:,0][:,1]),1)\n",
    "        balance_perc.append(cell)\n",
    "balance_perc"
   ]
  },
  {
   "cell_type": "markdown",
   "metadata": {},
   "source": [
    "Объекты сбалансированы по классам. Проводить балансировку не требуется. Данные пригодны для дальнейшего обучения\n",
    "\n",
    "## Исследование 1\n",
    "Выберем в качестве алгоритма классификации объектов - Дерево решений (DecisionTreeClassifier, модуля Tree, библиотеки Sklearn) \n",
    "\n",
    "Метрику качества будем оценивать при использовании кросс-валидации на 10 фолдов (метод cross_val_score, модуля model_selection, библиотеки sklearn). Метрика качества настроена по умолчанию, которую использует модель классификатора - accuracy\n",
    "\n",
    "Запишем каждое из 10 значений метрики качества и рассчитаем среднее accuracy"
   ]
  },
  {
   "cell_type": "code",
   "execution_count": 168,
   "metadata": {},
   "outputs": [
    {
     "name": "stdout",
     "output_type": "stream",
     "text": [
      "Модель: Одно дерево\n",
      "Вектор оценок accuracy: [0.77, 0.89, 0.81, 0.81, 0.8, 0.89, 0.87, 0.81, 0.82, 0.83]\n",
      "Средняя оценка accuracy: 0.83\n"
     ]
    }
   ],
   "source": [
    "# инициилизируем классификатор Дерево решений\n",
    "model = tree.DecisionTreeClassifier()\n",
    "\n",
    "# задаем стратегию кросс-валидации и обучаем модель\n",
    "name_strategy_cv_1 = ('Модель: Одно дерево')\n",
    "strategy_cv_1 = model_selection.cross_val_score(model, x_data, y, cv=10)\n",
    "\n",
    "# напишем функцию быстрой записи ответа\n",
    "def write_answer(name_strategy_cv, strategy_cv, number_of_answer):\n",
    "    print name_strategy_cv\n",
    "    print 'Вектор оценок accuracy:', map(lambda x: round(x,2), strategy_cv)\n",
    "    with open(\"answer%s.txt\" % number_of_answer, \"w\") as fout:\n",
    "        fout.write(str(np.mean(strategy_cv)))\n",
    "    print 'Средняя оценка accuracy:', round(np.mean(strategy_cv), 2)\n",
    "\n",
    "# запишем ответ\n",
    "write_answer(name_strategy_cv_1, strategy_cv_1, 1)"
   ]
  },
  {
   "cell_type": "markdown",
   "metadata": {},
   "source": [
    "## Исследование 2\n",
    "Изменим немного классификатор. Понизим дисперсию ответов за счет бэггинга (BaggingClassifier, модуля ensemble, библиотеки sklearn). Явно укажем количество деревьев, в размере 100 единиц. Данный метод бэггинг) предполагает что, при каждом построении дерева, состав объектов определяется псевдослучайным образом. На выбранных псевдослучайным образом объектах объектах, происходит обучение дерева.\n",
    "\n",
    "Способ оценки метрики качества классификатора (accuracy) тот же - кросс-валидация на 10 фолдах."
   ]
  },
  {
   "cell_type": "code",
   "execution_count": 169,
   "metadata": {},
   "outputs": [
    {
     "name": "stdout",
     "output_type": "stream",
     "text": [
      "Модель: Бэгинг на 100 деревьях\n",
      "Вектор оценок accuracy: [0.88, 0.96, 0.91, 0.93, 0.93, 0.99, 0.97, 0.92, 0.88, 0.9]\n",
      "Средняя оценка accuracy: 0.93\n"
     ]
    }
   ],
   "source": [
    "# инициализируем классификатор Бэгинга\n",
    "model = ensemble.BaggingClassifier(base_estimator = tree.DecisionTreeClassifier(), n_estimators=100)\n",
    "\n",
    "# задаем стратегию кросс-валидации и обучаем модель\n",
    "name_strategy_cv_2 = ('Модель: Бэгинг на 100 деревьях')\n",
    "strategy_cv_2 = model_selection.cross_val_score(model, x_data, y, cv=10)\n",
    "\n",
    "# запишем ответ\n",
    "write_answer(name_strategy_cv_2, strategy_cv_2, 2)"
   ]
  },
  {
   "cell_type": "markdown",
   "metadata": {},
   "source": [
    "## Исследование 3\n",
    "Уменьшим еще разброс дисперсии на ответах, сделав деревья менее зависимыми друг от друга. Для этого внесем изменение в классификатор, который использовался в предыдущем исследовании. При построении дерева, будем случайным образом выбирать $\\sqrt{d}$ признаков, где $d$ - это количество всех признаков в выборке.\n",
    "\n",
    "Способ оценки метрики качества классификатора (accuracy) тот же - кросс-валидация на 10 фолдах."
   ]
  },
  {
   "cell_type": "code",
   "execution_count": 170,
   "metadata": {},
   "outputs": [
    {
     "name": "stdout",
     "output_type": "stream",
     "text": [
      "Модель: Бэгинг на 100 деревьях с использованием sqrt{d} признаков\n",
      "Вектор оценок accuracy: [0.89, 0.96, 0.91, 0.91, 0.93, 0.93, 0.96, 0.99, 0.87, 0.92]\n",
      "Средняя оценка accuracy: 0.93\n"
     ]
    }
   ],
   "source": [
    "# инициализируем классификатор Бэгинга\n",
    "model = ensemble.BaggingClassifier(base_estimator = tree.DecisionTreeClassifier(), \n",
    "                                   n_estimators=100, max_features=int(x_data.shape[1]**0.5))\n",
    "\n",
    "# задаем стратегию кросс-валидации и обучаем модель\n",
    "name_strategy_cv_3 = ('Модель: Бэгинг на 100 деревьях с использованием sqrt{d} признаков')\n",
    "strategy_cv_3 = model_selection.cross_val_score(model, x_data, y, cv=10)\n",
    "\n",
    "# запишем ответ\n",
    "write_answer(name_strategy_cv_3, strategy_cv_3, 3)"
   ]
  },
  {
   "cell_type": "markdown",
   "metadata": {},
   "source": [
    "## Исследование 4\n",
    "Есть еще один способ снизить дисперсию ответов и сделать деревья еще менее зависимы. Теперь будем псевдослучайным образом выбирать $\\sqrt{d}$ признаков не на все дерево, а при построении каждой вершины дерева и из $\\sqrt{d}$ признаков выбирать лучший, по которому будем разбивать объекты.\n",
    "\n",
    "Способ оценки качества метрики классификатора (accuracy) тот же - кросс-валидация на 10 фолдах.\n",
    "\n",
    "Получившийся классификатор, бэггинг на рандомизированных деревьях, в которых при построении каждой вершины выбирается случайное подмножество признаков и разбиение ищется по лучшему из них, в точности соответствует алгоритму Random Forest (это будет 5 исследование)."
   ]
  },
  {
   "cell_type": "code",
   "execution_count": 171,
   "metadata": {},
   "outputs": [
    {
     "name": "stdout",
     "output_type": "stream",
     "text": [
      "Модель: Бэгинг на 100 деревьях с использованием sqrt{d} признаков для каждой вершины\n",
      "Вектор оценок accuracy: [0.89, 0.97, 0.92, 0.94, 0.95, 0.98, 0.97, 0.97, 0.92, 0.95]\n",
      "Средняя оценка accuracy: 0.95\n"
     ]
    }
   ],
   "source": [
    "# инициализируем классификатор Бэгинга\n",
    "model = ensemble.BaggingClassifier(base_estimator = tree.DecisionTreeClassifier(max_features='sqrt'), \n",
    "                                   n_estimators=100)\n",
    "\n",
    "# задаем стратегию кросс-валидации и обучаем модель\n",
    "name_strategy_cv_4 = ('Модель: Бэгинг на 100 деревьях с использованием sqrt{d} признаков для каждой вершины')\n",
    "strategy_cv_4 = model_selection.cross_val_score(model, x_data, y, cv=10)\n",
    "\n",
    "# запишем ответ\n",
    "write_answer(name_strategy_cv_4, strategy_cv_4, 4)"
   ]
  },
  {
   "cell_type": "markdown",
   "metadata": {},
   "source": [
    "## Исследование 5\n",
    "Мы установили, что наш классификатор должен полностью соответствовать классификатору Random Forest. Проверим."
   ]
  },
  {
   "cell_type": "code",
   "execution_count": 172,
   "metadata": {},
   "outputs": [
    {
     "name": "stdout",
     "output_type": "stream",
     "text": [
      "Модель: Случайный лес\n",
      "Вектор оценок accuracy: [0.91, 0.97, 0.94, 0.96, 0.96, 0.98, 0.98, 0.97, 0.94, 0.94]\n",
      "Средняя оценка accuracy: 0.95\n"
     ]
    }
   ],
   "source": [
    "# инициализируем классификатор Случайный лес\n",
    "model = ensemble.RandomForestClassifier(n_estimators=100, max_features = 'sqrt')\n",
    "\n",
    "# задаем стратегию кросс-валидации и обучаем модель\n",
    "name_strategy_cv_5 = ('Модель: Случайный лес')\n",
    "strategy_cv_5 = model_selection.cross_val_score(model, x_data, y, cv=10)\n",
    "\n",
    "# напишем функцию быстрой записи ответа\n",
    "def print_answer(name_strategy_cv, strategy_cv):\n",
    "    print name_strategy_cv\n",
    "    print 'Вектор оценок accuracy:', map(lambda x: round(x,2), strategy_cv)\n",
    "    print 'Средняя оценка accuracy:', round(np.mean(strategy_cv), 2)\n",
    "    \n",
    "# выведем ответ\n",
    "print_answer(name_strategy_cv_5, strategy_cv_5)"
   ]
  },
  {
   "cell_type": "markdown",
   "metadata": {},
   "source": [
    "## Исследование 6\n",
    "Воспользуемся последним классификатором (Случайный лес) и посмотрим как будет меняться качество ***при изменении глубины деревьев***"
   ]
  },
  {
   "cell_type": "code",
   "execution_count": 173,
   "metadata": {},
   "outputs": [
    {
     "name": "stdout",
     "output_type": "stream",
     "text": [
      "Модель: случайный лес\n",
      "Количество деревьев: 100\n",
      "Количество признаков: sqrt of d \n",
      "\n",
      "\n",
      "Глубина дерева: 1\n",
      "Средняя оценка accuracy: 0.696\n",
      "\n",
      "Глубина дерева: 3\n",
      "Средняя оценка accuracy: 0.851\n",
      "\n",
      "Глубина дерева: 5\n",
      "Средняя оценка accuracy: 0.908\n",
      "\n",
      "Глубина дерева: 15\n",
      "Средняя оценка accuracy: 0.952\n",
      "\n",
      "Глубина дерева: 50\n",
      "Средняя оценка accuracy: 0.953\n",
      "\n",
      "Глубина дерева: None\n",
      "Средняя оценка accuracy: 0.955\n"
     ]
    }
   ],
   "source": [
    "# зададим вектор значений глубины деревьев\n",
    "depth = [1, 3, 5, 15, 50, None]\n",
    "\n",
    "# напишем функцию возврата оценки метрики качества в зависимости от значений вектора 'depth'\n",
    "def accuracy_from_depth(x_data, y, depth):\n",
    "    print 'Модель: случайный лес'\n",
    "    print 'Количество деревьев: 100'\n",
    "    print 'Количество признаков: sqrt of d', '\\n'\n",
    "    vector_accuracy = []\n",
    "    for i in depth:\n",
    "        print '\\n', 'Глубина дерева:', i\n",
    "        model = ensemble.RandomForestClassifier(n_estimators = 100, max_features = 'sqrt', max_depth = i)\n",
    "        strategy_cv = model_selection.cross_val_score(model, x_data, y, cv = 10)\n",
    "        mean_accuracy = np.mean(strategy_cv)\n",
    "        print 'Средняя оценка accuracy:', round(mean_accuracy,3)\n",
    "        vector_accuracy.append(mean_accuracy)\n",
    "    return vector_accuracy\n",
    "\n",
    "vector_accuracy_1 = accuracy_from_depth(x_data, y, depth)"
   ]
  },
  {
   "cell_type": "markdown",
   "metadata": {},
   "source": [
    "Построим график зависимости качества от глубины дерева"
   ]
  },
  {
   "cell_type": "code",
   "execution_count": 174,
   "metadata": {},
   "outputs": [
    {
     "data": {
      "image/png": "[encoded data removed]",
      "text/plain": [
       "<Figure size 1120x480 with 1 Axes>"
      ]
     },
     "metadata": {
      "needs_background": "light"
     },
     "output_type": "display_data"
    }
   ],
   "source": [
    "# запишем функцию построения графика зависимости accuracy от к-л параметра\n",
    "\n",
    "def graph_accuracy(parametres, vector_accuracy, name_param):\n",
    "    fig, axes = plt.subplots(figsize = (14,6), dpi = 80)\n",
    "    plt.plot(parametres, vector_accuracy, color = 'brown', lw = 3, label = 'Accuracy')\n",
    "    plt.xlabel(name_param, size = 16)\n",
    "    plt.ylabel('Accuracy', size = 16)\n",
    "    plt.legend(prop = {'size': 14})\n",
    "    plt.show()\n",
    "\n",
    "name_param = 'Depth of tree'\n",
    "graph_accuracy(depth, vector_accuracy_1, name_param)"
   ]
  },
  {
   "cell_type": "markdown",
   "metadata": {},
   "source": [
    "## Исследование 7\n",
    "Оценим метрику качества accuracy ***при изменении количества деревьев*** в случайном лесе"
   ]
  },
  {
   "cell_type": "code",
   "execution_count": 175,
   "metadata": {},
   "outputs": [
    {
     "name": "stdout",
     "output_type": "stream",
     "text": [
      "Модель: случайный лес\n",
      "Глубина: один объект в листе\n",
      "Количество признаков: sqrt of d \n",
      "\n",
      "\n",
      "Количество деревьев: 1\n",
      "Средняя оценка accuracy: 0.746\n",
      "\n",
      "Количество деревьев: 2\n",
      "Средняя оценка accuracy: 0.735\n",
      "\n",
      "Количество деревьев: 3\n",
      "Средняя оценка accuracy: 0.819\n",
      "\n",
      "Количество деревьев: 5\n",
      "Средняя оценка accuracy: 0.887\n",
      "\n",
      "Количество деревьев: 10\n",
      "Средняя оценка accuracy: 0.928\n",
      "\n",
      "Количество деревьев: 50\n",
      "Средняя оценка accuracy: 0.947\n",
      "\n",
      "Количество деревьев: 100\n",
      "Средняя оценка accuracy: 0.954\n"
     ]
    },
    {
     "data": {
      "image/png": "[encoded data removed]",
      "text/plain": [
       "<Figure size 1120x480 with 1 Axes>"
      ]
     },
     "metadata": {
      "needs_background": "light"
     },
     "output_type": "display_data"
    }
   ],
   "source": [
    "# запишем количество деревьев в лесу в вектор\n",
    "trees = [1, 2, 3, 5, 10, 50, 100]\n",
    "\n",
    "# запишем функцию определения метрики качества в зависимости от значений вектора 'trees'\n",
    "def accuracy_from_trees(x_data, y, trees):\n",
    "    print 'Модель: случайный лес'\n",
    "    print 'Глубина: один объект в листе'\n",
    "    print 'Количество признаков: sqrt of d','\\n'\n",
    "    vector_accuracy = []\n",
    "    for i in trees:\n",
    "        print '\\n', 'Количество деревьев:', i\n",
    "        model = ensemble.RandomForestClassifier(n_estimators = i, max_features = 'sqrt', max_depth = None)\n",
    "        strategy_cv = model_selection.cross_val_score(model, x_data, y, cv = 10)\n",
    "        mean_accuracy = np.mean(strategy_cv)\n",
    "        print 'Средняя оценка accuracy:', round(mean_accuracy,3)\n",
    "        vector_accuracy.append(mean_accuracy)\n",
    "    return vector_accuracy\n",
    "\n",
    "vector_accuracy_2 = accuracy_from_trees(x_data, y, trees)\n",
    "name_param = 'Number of trees'\n",
    "\n",
    "graph_accuracy(trees, vector_accuracy_2, name_param)"
   ]
  },
  {
   "cell_type": "markdown",
   "metadata": {},
   "source": [
    "## Исследование 8 \n",
    "Оценим метрику качества accuracy ***в зависимости от количества выбираемых признаков $d$***"
   ]
  },
  {
   "cell_type": "code",
   "execution_count": 176,
   "metadata": {
    "scrolled": false
   },
   "outputs": [
    {
     "name": "stdout",
     "output_type": "stream",
     "text": [
      "Модель: случайный лес\n",
      "Глубина: один объект в листе\n",
      "Количество деревьев: 100 \n",
      "\n",
      "\n",
      "Количество признаков: 1\n",
      "Средняя оценка accuracy: 0.945\n",
      "\n",
      "Количество признаков: 2\n",
      "Средняя оценка accuracy: 0.95\n",
      "\n",
      "Количество признаков: 3\n",
      "Средняя оценка accuracy: 0.956\n",
      "\n",
      "Количество признаков: 6\n",
      "Средняя оценка accuracy: 0.954\n",
      "\n",
      "Количество признаков: 8\n",
      "Средняя оценка accuracy: 0.955\n",
      "\n",
      "Количество признаков: 19\n",
      "Средняя оценка accuracy: 0.948\n",
      "\n",
      "Количество признаков: 32\n",
      "Средняя оценка accuracy: 0.943\n",
      "\n",
      "Количество признаков: 44\n",
      "Средняя оценка accuracy: 0.941\n",
      "\n",
      "Количество признаков: 57\n",
      "Средняя оценка accuracy: 0.927\n",
      "\n",
      "Количество признаков: 64\n",
      "Средняя оценка accuracy: 0.926\n"
     ]
    },
    {
     "data": {
      "image/png": "[encoded data removed]",
      "text/plain": [
       "<Figure size 1120x480 with 1 Axes>"
      ]
     },
     "metadata": {
      "needs_background": "light"
     },
     "output_type": "display_data"
    }
   ],
   "source": [
    "# запишем количество признаков для анализа в вектор\n",
    "features = [1, 2, 3, int(x_data.shape[1]*0.1), int(x_data.shape[1]**0.5), int(x_data.shape[1]*0.3), int(x_data.shape[1]*0.5), \n",
    "            int(x_data.shape[1]*0.7), int(x_data.shape[1]*0.9), int(x_data.shape[1])]\n",
    "\n",
    "# запишем функцию определения метрики качества в зависимости от значений вектора 'features'\n",
    "def accuracy_from_features(x_data, y, features):\n",
    "    print 'Модель: случайный лес'\n",
    "    print 'Глубина: один объект в листе'\n",
    "    print 'Количество деревьев: 100', '\\n'\n",
    "    vector_accuracy = []\n",
    "    for i in features:\n",
    "        print '\\n', 'Количество признаков:', i\n",
    "        model = ensemble.RandomForestClassifier(n_estimators = 100, max_features = i, max_depth = None)\n",
    "        strategy_cv = model_selection.cross_val_score(model, x_data, y, cv = 10)\n",
    "        mean_accuracy = np.mean(strategy_cv)\n",
    "        print 'Средняя оценка accuracy:', round(mean_accuracy,3)\n",
    "        vector_accuracy.append(mean_accuracy)\n",
    "    return vector_accuracy\n",
    "\n",
    "vector_accuracy_3 = accuracy_from_features(x_data, y, features)\n",
    "name_param = 'Number of features'\n",
    "\n",
    "graph_accuracy(features, vector_accuracy_3, name_param)"
   ]
  },
  {
   "cell_type": "markdown",
   "metadata": {},
   "source": [
    "## Исследование 8\n",
    "Разобьем выборку на обучающую и тестовую. На тестовой выборке с использованием кросс-валидации на 10 фолдов оценим метрику качества accuracy"
   ]
  },
  {
   "cell_type": "code",
   "execution_count": 180,
   "metadata": {},
   "outputs": [],
   "source": [
    "# разобъем выборку на обучающую и тестовую с сохранением исходной пропорции классов в тестовой (stratify)\n",
    "(x_train, x_test, y_train, y_test) = train_test_split(x_data, y, \n",
    "                                     test_size=0.3, random_state=0, stratify = y)"
   ]
  },
  {
   "cell_type": "markdown",
   "metadata": {},
   "source": [
    "Проверим, что после разбиения выборки баланс классов объектов сохранился"
   ]
  },
  {
   "cell_type": "code",
   "execution_count": 182,
   "metadata": {},
   "outputs": [
    {
     "data": {
      "text/plain": [
       "[array([[  0., 124.]]),\n",
       " array([[  1., 127.]]),\n",
       " array([[  2., 124.]]),\n",
       " array([[  3., 128.]]),\n",
       " array([[  4., 127.]]),\n",
       " array([[  5., 127.]]),\n",
       " array([[  6., 127.]]),\n",
       " array([[  7., 125.]]),\n",
       " array([[  8., 122.]]),\n",
       " array([[  9., 126.]])]"
      ]
     },
     "execution_count": 182,
     "metadata": {},
     "output_type": "execute_result"
    }
   ],
   "source": [
    "# проверим балансировку классов объектов\n",
    "balance = []\n",
    "for i in np.unique(y_train):\n",
    "    cell = np.array([])\n",
    "    cell.resize((1,2))\n",
    "    cell[0][0] = i\n",
    "    cell[0][1] = np.sum(y_train==i)\n",
    "    balance.append(cell)\n",
    "\n",
    "balance"
   ]
  },
  {
   "cell_type": "markdown",
   "metadata": {},
   "source": [
    "Баланс сохранился. Оценим Accuracy на обучающей выборке, на тестовой выборке, на тестовой выборке с использованием кросс-валидации на 10 фолдов. При этом, посмотрим как будет меняться качество в зависимости от количества деревьев в лесу. \n",
    "\n",
    "**Предположение 1**\n",
    "Относительно accuracy на обучающей выборке мы изначально предполагаем, что оценка метрики качества при малом количестве деревьев (1, 2, 3) будет давать низкие результаты и с ростом количества деревьев качество модели будет расти. Но в связи с тем, что мы имеем дело с большим количеством независимых деревьев, предполагаем, что на обучающей выборке accuracy будет около 1, но не равно 1. Ведь если качество на обучающей выборке достигает 1, то это говорит о переобученности модели, а мы как раз используем модель и настраиваем параметры (бэггинг, кол-во признаков, кол-во деревьев) так, чтобы модель обладала хорошей обобщающей способностью.\n",
    "\n",
    "**Предположение 2**\n",
    "Мы считаем что качество модели (accuracy) на обучающей выборке будет самой высокой, на тестовой оценка метрики качества будет ниже, и при использовании кросс-валидации на тестовой выборке качество будет еще ниже. Это предположение мы считаем абсолютно справедливым для всех случаев.\n",
    "\n",
    "**Предположение 3**\n",
    "Мы считаем, что с ростом количества деревьев качество модели будет расти для всех случаев оценки accuracy."
   ]
  },
  {
   "cell_type": "code",
   "execution_count": 220,
   "metadata": {
    "scrolled": false
   },
   "outputs": [
    {
     "name": "stdout",
     "output_type": "stream",
     "text": [
      "Number of trees: 1 \n",
      "\n",
      "Accuracy for train test: 0.916\n",
      "Accuracy for test train: 0.75\n",
      "Accuracy for test train with CV (k=10) 0.661 \n",
      "\n",
      "Number of trees: 2 \n",
      "\n",
      "Accuracy for train test: 0.91\n",
      "Accuracy for test train: 0.772\n",
      "Accuracy for test train with CV (k=10) 0.659 \n",
      "\n",
      "Number of trees: 3 \n",
      "\n",
      "Accuracy for train test: 0.971\n",
      "Accuracy for test train: 0.844\n",
      "Accuracy for test train with CV (k=10) 0.783 \n",
      "\n",
      "Number of trees: 5 \n",
      "\n",
      "Accuracy for train test: 0.994\n",
      "Accuracy for test train: 0.881\n",
      "Accuracy for test train with CV (k=10) 0.825 \n",
      "\n",
      "Number of trees: 10 \n",
      "\n",
      "Accuracy for train test: 1.0\n",
      "Accuracy for test train: 0.948\n",
      "Accuracy for test train with CV (k=10) 0.897 \n",
      "\n",
      "Number of trees: 50 \n",
      "\n",
      "Accuracy for train test: 1.0\n",
      "Accuracy for test train: 0.972\n",
      "Accuracy for test train with CV (k=10) 0.946 \n",
      "\n",
      "Number of trees: 100 \n",
      "\n",
      "Accuracy for train test: 1.0\n",
      "Accuracy for test train: 0.976\n",
      "Accuracy for test train with CV (k=10) 0.938 \n",
      "\n",
      "Number of trees: 500 \n",
      "\n",
      "Accuracy for train test: 1.0\n",
      "Accuracy for test train: 0.976\n",
      "Accuracy for test train with CV (k=10) 0.946 \n",
      "\n"
     ]
    }
   ],
   "source": [
    "# запишем значения количества деревьев в лесу в вектор\n",
    "trees = [1, 2, 3, 5, 10, 50, 100, 500]\n",
    "\n",
    "# напишем функцию возвращающую качество модели в зависимости от количества деревьев\n",
    "def accuracy_for_train_test(x_train, x_test, y_train, y_test, trees):\n",
    "    for tree in trees:\n",
    "        print 'Number of trees:', tree, '\\n'\n",
    "        # инициилизируем класс \"RandomForestClassifier\"\n",
    "        model = ensemble.RandomForestClassifier(n_estimators = tree, max_features = 'sqrt', max_depth = None)\n",
    "        # обучим модель случайного леса\n",
    "        model_fit = model.fit(x_train, y_train)\n",
    "\n",
    "        # построим предсказания на обучающей выборке в соответствии обученной моделью\n",
    "        predict_train = model_fit.predict(x_train)\n",
    "        # оценим метрику качества 'Accuracy' на обучающей выборке\n",
    "        accuracy_train = accuracy_score(y_train, predict_train)\n",
    "        print 'Accuracy for train test:', round(accuracy_train, 3)\n",
    "\n",
    "        # построим предсказания на тестовой выборке в соответствии с обученной моделью\n",
    "        predict_test = model_fit.predict(x_test)\n",
    "        # оценим 'Accuracy' на тестовой выборке\n",
    "        accuracy_test = accuracy_score(y_test, predict_test)\n",
    "        print 'Accuracy for test train:', round(accuracy_test, 3)\n",
    "\n",
    "        # оценим качество 'Accuracy' на тестовой выборке с использованием кросс-валидации на 10 фолдов\n",
    "        strategy_cv = model_selection.cross_val_score(model_fit, x_test, y_test, cv = 10)\n",
    "        print 'Accuracy for test train with CV (k=10)', round(np.mean(strategy_cv), 3), '\\n'\n",
    "\n",
    "accuracy_for_train_test(x_train, x_test, y_train, y_test, trees)"
   ]
  },
  {
   "cell_type": "markdown",
   "metadata": {},
   "source": [
    "Мы были правы в части второго и третьего предположения. Однако мы частично ошиблись с первым предположением. Мы установили, что качество модели, при росте количества деревьев растет и в итоге достигает 1, что противоречит нашим предположениям о хорошей обобщающей способности. Возможно это совпадение. \n",
    "\n",
    "#### Дополнительный эксперимент к исследованию №8\n",
    "Давайте изменим модель. Возьмем одно дерево, не будем ограничивать глубину, количество объектов и признаков. Измерим качество модели на обучающей выборке, тестовой и тестовой с кросс-валидацией на 10 фолдов.\n",
    "\n",
    "**Предположение 1**\n",
    "\n",
    "Мы ожидаем увидеть качество на обучающей выборке = 1, качество на тестовой выборке и на тестовой выборке с кросс-валидацией ниже чем при ансамбле деревьев, так как модель из одного дерева должна обладать низкой обобщающей способностью."
   ]
  },
  {
   "cell_type": "code",
   "execution_count": 221,
   "metadata": {},
   "outputs": [
    {
     "name": "stdout",
     "output_type": "stream",
     "text": [
      "Accuracy for train test: 1.0\n",
      "Accuracy for test train: 0.85\n",
      "Accuracy for test train with CV (k=10) 0.803 \n",
      "\n"
     ]
    }
   ],
   "source": [
    "# инициилизируем класс \"DecisionTreeClassifier\"\n",
    "model = tree.DecisionTreeClassifier()\n",
    "# обучим модель случайного леса\n",
    "model_fit = model.fit(x_train, y_train)\n",
    "\n",
    "# построим предсказания на обучающей выборке в соответствии обученной моделью\n",
    "predict_train = model_fit.predict(x_train)\n",
    "# оценим метрику качества 'Accuracy' на обучающей выборке\n",
    "accuracy_train = accuracy_score(y_train, predict_train)\n",
    "print 'Accuracy for train test:', round(accuracy_train, 3)\n",
    "\n",
    "# построим предсказания на тестовой выборке в соответствии с обученной моделью\n",
    "predict_test = model_fit.predict(x_test)\n",
    "# оценим 'Accuracy' на тестовой выборке\n",
    "accuracy_test = accuracy_score(y_test, predict_test)\n",
    "print 'Accuracy for test train:', round(accuracy_test, 3)\n",
    "\n",
    "# оценим качество 'Accuracy' на тестовой выборке с использованием кросс-валидации на 10 фолдов\n",
    "strategy_cv = model_selection.cross_val_score(model_fit, x_test, y_test, cv = 10)\n",
    "print 'Accuracy for test train with CV (k=10)', round(np.mean(strategy_cv), 3), '\\n'"
   ]
  },
  {
   "cell_type": "markdown",
   "metadata": {},
   "source": [
    "Наши предположения подтвердились относительно результатов дополнительного эксперимента подтвердились. Однако это не в полной мере объясняет accuracy = 1 на обучающей выборке в модели из ансамбля деревьев. \n",
    "\n",
    "Рекомендуется провести дополнительный эксперимент на ином дата-сете.\n",
    "\n",
    "На данный момент исследование не завершено."
   ]
  }
 ],
 "metadata": {
  "kernelspec": {
   "display_name": "Python 2",
   "language": "python",
   "name": "python2"
  },
  "language_info": {
   "codemirror_mode": {
    "name": "ipython",
    "version": 2
   },
   "file_extension": ".py",
   "mimetype": "text/x-python",
   "name": "python",
   "nbconvert_exporter": "python",
   "pygments_lexer": "ipython2",
   "version": "2.7.16"
  }
 },
 "nbformat": 4,
 "nbformat_minor": 2
}
